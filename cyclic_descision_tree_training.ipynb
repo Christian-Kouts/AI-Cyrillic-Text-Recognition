{
 "cells": [
  {
   "cell_type": "markdown",
   "metadata": {},
   "source": [
    "# Cyclic Descision Tree\n",
    "## By Christian Koutsandreas"
   ]
  },
  {
   "cell_type": "code",
   "execution_count": 1,
   "metadata": {},
   "outputs": [],
   "source": [
    "import numpy as np\n",
    "from sklearn.model_selection import train_test_split\n",
    "from sklearn import tree\n",
    "import pandas as pd\n",
    "import time"
   ]
  },
  {
   "cell_type": "code",
   "execution_count": 2,
   "metadata": {},
   "outputs": [],
   "source": [
    "# Immport data\n",
    "X = np.loadtxt('./archive/dataX.csv', delimiter=\",\")\n",
    "y = np.genfromtxt('./archive/datay.csv', dtype=\"str\", encoding=\"utf-8\")"
   ]
  },
  {
   "cell_type": "code",
   "execution_count": 3,
   "metadata": {},
   "outputs": [],
   "source": [
    "chars, counts = np.unique(y, return_counts=True)\n",
    "# Map chars to ints in interval [0,number_of_lables] \n",
    "mapping_dict = dict(zip(chars, [x for x in range(chars.size)]))\n",
    "mapping_dict_backwards = dict(zip([x for x in range(chars.size)], chars)) #may be needed later\n",
    "\n",
    "y = np.vectorize(mapping_dict.get)(y).astype(\"uint8\")\n",
    "X = X/255"
   ]
  },
  {
   "cell_type": "markdown",
   "metadata": {},
   "source": [
    "Lets first test a variety of hyper paramaters."
   ]
  },
  {
   "cell_type": "code",
   "execution_count": 4,
   "metadata": {},
   "outputs": [
    {
     "name": "stdout",
     "output_type": "stream",
     "text": [
      "Tests completed:\n",
      "1/25 2/25 3/25 4/25 5/25 6/25 7/25 8/25 9/25 10/25 11/25 12/25 13/25 14/25 15/25 16/25 17/25 18/25 19/25 20/25 21/25 22/25 23/25 24/25 25/25 "
     ]
    }
   ],
   "source": [
    "num_tests = 25\n",
    "criterion = [\"entropy\", \"log_loss\", \"gini\"]\n",
    "splitter = [\"random\",\"best\", ]\n",
    "results_df = pd.DataFrame(index=range(num_tests*len(criterion)*len(splitter)),columns=[\"criterion\", \"splitter\", \"validation_accuracy\", \"training_time\", \"model_object\"])\n",
    "\n",
    "i = 0\n",
    "print(\"Tests completed:\")\n",
    "for test in range(num_tests):\n",
    "    \n",
    "    X_train, X_test, y_train, y_test = train_test_split(X, y, test_size=0.3, shuffle=True)\n",
    "\n",
    "    for criter in criterion:\n",
    "        for split in splitter:\n",
    "            \n",
    "            start = time.time()\n",
    "            model = tree.DecisionTreeClassifier(criterion=criter, splitter=split)\n",
    "            model.fit(X_train, y_train)\n",
    "            end = time.time()\n",
    "\n",
    "            results_df.loc[i] = [criter, split, np.sum(model.predict(X_test) == y_test)/y_test.shape[0], end-start, model]\n",
    "            i += 1\n",
    "    print(str(test+1)+'/'+str(num_tests), end=\" \")\n",
    "\n"
   ]
  },
  {
   "cell_type": "code",
   "execution_count": 5,
   "metadata": {},
   "outputs": [],
   "source": [
    "# save results dataframe to memory for leter\n",
    "results_df.to_pickle('dec_tree_pre_trained.pkl')    "
   ]
  }
 ],
 "metadata": {
  "kernelspec": {
   "display_name": "Python 3.11.0 64-bit",
   "language": "python",
   "name": "python3"
  },
  "language_info": {
   "codemirror_mode": {
    "name": "ipython",
    "version": 3
   },
   "file_extension": ".py",
   "mimetype": "text/x-python",
   "name": "python",
   "nbconvert_exporter": "python",
   "pygments_lexer": "ipython3",
   "version": "3.11.0 (main, Oct 24 2022, 18:26:48) [MSC v.1933 64 bit (AMD64)]"
  },
  "orig_nbformat": 4,
  "vscode": {
   "interpreter": {
    "hash": "0592f68fb2c82d079b557c2d4c2f2518d939489ad4a09b6414130bcd85cc09a4"
   }
  }
 },
 "nbformat": 4,
 "nbformat_minor": 2
}
